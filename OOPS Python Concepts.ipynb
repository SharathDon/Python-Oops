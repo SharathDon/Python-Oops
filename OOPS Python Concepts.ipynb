{
 "cells": [
  {
   "cell_type": "raw",
   "id": "1c50547d",
   "metadata": {},
   "source": [
    "#Day1\n",
    "#Syntax for Class\n",
    "class className :\n",
    "    attributes --> member variable\n",
    "    ----------\n",
    "    methods    --> member function\n",
    "    ----------\n",
    "objectName = className() ----> Create object"
   ]
  },
  {
   "cell_type": "code",
   "execution_count": 5,
   "id": "7e2bd15d",
   "metadata": {},
   "outputs": [
    {
     "name": "stdout",
     "output_type": "stream",
     "text": [
      "Enter var1:10\n",
      "Enter var2:20\n",
      "var1 :  10\n",
      "var2 :  20\n"
     ]
    }
   ],
   "source": [
    "class Sample:\n",
    "    def setData(self):\n",
    "        self.var1 = int(input('Enter var1:'))\n",
    "        self.var2 = int(input('Enter var2:'))\n",
    "    def getData(self):\n",
    "        print(\"var1 : \",self.var1)\n",
    "        print(\"var2 : \",self.var2)\n",
    "sObj = Sample()\n",
    "sObj.setData()\n",
    "sObj.getData()                         \n",
    "            "
   ]
  },
  {
   "cell_type": "code",
   "execution_count": null,
   "id": "ad5f0bbb",
   "metadata": {},
   "outputs": [],
   "source": [
    "class Circle:\n",
    "    pi = 3.14       # class variable\n",
    "    def __init__(self):    # dunder method\n",
    "        self.radius = 20\n",
    "    def setRadius(self):\n",
    "        self.radius = int(input())\n",
    "    def area(self):\n",
    "        print(Circle.pi * self.radius**2)\n",
    "    def circumference(self):\n",
    "        print(2*Circle.pi*self.radius)\n",
    "    def __del__(self):\n",
    "        print(\"Object deleted\")\n",
    "cObj1 = Circle()  # __init__ will be invoked automatically when the object is created\n",
    "cObj2 = Circle()\n",
    "cObj1.setRadius()\n",
    "cObj1.area()\n",
    "cObj2.setRadius()\n",
    "cObj2.circumference()\n",
    "del cObj1      # __del__ will be called automatically\n",
    "del cObj2\n",
    "# __repr__ method & __str__ method is used for developer and users purpose.\n"
   ]
  },
  {
   "cell_type": "code",
   "execution_count": 1,
   "id": "d48b78bf",
   "metadata": {},
   "outputs": [
    {
     "ename": "TypeError",
     "evalue": "object of type 'Myname' has no len()",
     "output_type": "error",
     "traceback": [
      "\u001b[1;31m---------------------------------------------------------------------------\u001b[0m",
      "\u001b[1;31mTypeError\u001b[0m                                 Traceback (most recent call last)",
      "\u001b[1;32mC:\\Users\\RAVULA~1.CHA\\AppData\\Local\\Temp/ipykernel_13956/1989324250.py\u001b[0m in \u001b[0;36m<module>\u001b[1;34m\u001b[0m\n\u001b[0;32m      5\u001b[0m \u001b[1;33m\u001b[0m\u001b[0m\n\u001b[0;32m      6\u001b[0m \u001b[0mobj\u001b[0m \u001b[1;33m=\u001b[0m \u001b[0mMyname\u001b[0m\u001b[1;33m(\u001b[0m\u001b[1;34m'Sharath'\u001b[0m\u001b[1;33m)\u001b[0m\u001b[1;33m\u001b[0m\u001b[1;33m\u001b[0m\u001b[0m\n\u001b[1;32m----> 7\u001b[1;33m \u001b[0mprint\u001b[0m\u001b[1;33m(\u001b[0m\u001b[0mlen\u001b[0m\u001b[1;33m(\u001b[0m\u001b[0mobj\u001b[0m\u001b[1;33m)\u001b[0m\u001b[1;33m)\u001b[0m \u001b[1;31m# For this code to work, refer the below code\u001b[0m\u001b[1;33m\u001b[0m\u001b[1;33m\u001b[0m\u001b[0m\n\u001b[0m",
      "\u001b[1;31mTypeError\u001b[0m: object of type 'Myname' has no len()"
     ]
    }
   ],
   "source": [
    "# Day2 \n",
    "class Myname: \n",
    "    def __init__(self,name): # self <-- object, name <-- Sharath \n",
    "        self.name = name   #instance variable will be given self before it\n",
    "    \n",
    "obj = Myname('Sharath')\n",
    "print(len(obj)) # For this code to work, refer the below code"
   ]
  },
  {
   "cell_type": "code",
   "execution_count": 2,
   "id": "e18f6f6b",
   "metadata": {},
   "outputs": [
    {
     "name": "stdout",
     "output_type": "stream",
     "text": [
      "7\n"
     ]
    }
   ],
   "source": [
    "class Myname: \n",
    "    def __init__(self,name): # self <-- object, name <-- Sharath \n",
    "        self.name = name   #instance variable will be given self before it \n",
    "    def __len__(self):     # we cannot print the length of the object directly without giving the dunder length method.\n",
    "        return len(self.name)\n",
    "    \n",
    "obj = Myname('Sharath')\n",
    "print(len(obj))"
   ]
  },
  {
   "cell_type": "code",
   "execution_count": 3,
   "id": "e54f0cae",
   "metadata": {},
   "outputs": [
    {
     "name": "stdout",
     "output_type": "stream",
     "text": [
      "10\n",
      "20\n",
      "30\n",
      "40\n",
      "40.0 + 60.0 j\n"
     ]
    }
   ],
   "source": [
    "class Complex:\n",
    "    def __init__(self):\n",
    "        self.real = 0\n",
    "        self.img = 0\n",
    "    def setData(self):\n",
    "        self.real = float(input())\n",
    "        self.img = float(input())\n",
    "    def compAdd(self,other):\n",
    "        temp = Complex()\n",
    "        temp.real = self.real + other.real\n",
    "        temp.img = self.img + other.img\n",
    "        return temp\n",
    "    def getData(self):\n",
    "        print(self.real, \"+\", self.img,\"j\")\n",
    "comp1=Complex()\n",
    "comp2=Complex()\n",
    "add=Complex()\n",
    "comp1.setData()\n",
    "comp2.setData()\n",
    "add = comp1.compAdd(comp2)\n",
    "add.getData()\n"
   ]
  },
  {
   "cell_type": "code",
   "execution_count": null,
   "id": "2fe066af",
   "metadata": {},
   "outputs": [],
   "source": [
    "class Complex:\n",
    "    def __init__(self):\n",
    "        self.compVal=0\n",
    "    def setData(self):\n",
    "        self.compVal=complex(input())\n",
    "    def compAdd(self,other):\n",
    "        temp=Complex()\n",
    "        temp.compVal=self.compVal + other.compVal\n",
    "        return temp\n",
    "    def getData(self):\n",
    "        print(self.compVal)\n",
    "\n",
    "comp1=Complex()\n",
    "comp2=Complex()\n",
    "add=Complex()\n",
    "comp1.setData()\n",
    "comp2.setData()\n",
    "add=comp1.compAdd(comp2)\n",
    "add.getData()        "
   ]
  },
  {
   "cell_type": "code",
   "execution_count": 4,
   "id": "43c7d19e",
   "metadata": {},
   "outputs": [
    {
     "name": "stdout",
     "output_type": "stream",
     "text": [
      "Name : sharath\n",
      "dept : ERS\n",
      "Salary : 40000\n",
      "Name : kiran\n",
      "dept : BFSI\n",
      "Salary : 30000\n",
      "Name : sharath\n",
      "dept : ERS\n",
      "Salary : 44000.0\n",
      "Name : kiran\n",
      "dept : BFSI\n",
      "Salary : 33000.0\n"
     ]
    }
   ],
   "source": [
    "#Day 3\n",
    "class Employee:\n",
    "    hikeper = 0.10   # class variable & can be accessed everywhere inside the class\n",
    "    def __init__(self,name,dept,sal):\n",
    "        self.__name = name   # __name is a private variable which is valid for this class and cannot be accessed outside\n",
    "        self.__dept = dept\n",
    "        self.__sal = sal\n",
    "    def getEmp(self):\n",
    "        print(f'Name : {self.__name}')\n",
    "        print(f'dept : {self.__dept}')\n",
    "        print(f'Salary : {self.__sal}')\n",
    "    def hikesal(self):\n",
    "        self.__sal += self.__sal * Employee.hikeper\n",
    "\n",
    "emp1 = Employee('sharath','ERS',40000)\n",
    "emp2 = Employee('kiran','BFSI',30000)\n",
    "emp1.getEmp()\n",
    "emp2.getEmp()\n",
    "emp1.hikesal()   \n",
    "emp1.getEmp()\n",
    "emp2.hikesal()\n",
    "emp2.getEmp()"
   ]
  },
  {
   "cell_type": "code",
   "execution_count": 5,
   "id": "c57507df",
   "metadata": {},
   "outputs": [
    {
     "name": "stdout",
     "output_type": "stream",
     "text": [
      "Name : sharath\n",
      "dept : ERS\n",
      "Salary : 40000\n",
      "Name : kiran\n",
      "dept : BFSI\n",
      "Salary : 30000\n",
      "0.20\n",
      "Name : sharath\n",
      "dept : ERS\n",
      "Salary : 52800.0\n"
     ]
    }
   ],
   "source": [
    "# Quick example and Difference between class method and class variable\n",
    "\n",
    "class Employee:\n",
    "    hikeper = 0.10   # class variable & can be accessed everywhere inside the class\n",
    "    def __init__(self,name,dept,sal):\n",
    "        self.__name = name   # __name is a private variable which is valid for this class and cannot be accessed outside\n",
    "        self.__dept = dept\n",
    "        self.__sal = sal\n",
    "    def getEmp(self):\n",
    "        print(f'Name : {self.__name}')\n",
    "        print(f'dept : {self.__dept}')\n",
    "        print(f'Salary : {self.__sal}')\n",
    "    def hikesal(self):\n",
    "        self.__sal += self.__sal * Employee.hikeper\n",
    "    @classmethod     # For changing the hike percent without touching the class variable, @classmethod decorator is initialized\n",
    "    def changehikeper(cls):\n",
    "        cls.hikeper = float(input())\n",
    "\n",
    "emp1 = Employee('sharath','ERS',40000)\n",
    "emp2 = Employee('kiran','BFSI',30000)\n",
    "emp1.getEmp()\n",
    "emp2.getEmp()\n",
    "emp1.hikesal()\n",
    "Employee.changehikeper()\n",
    "emp1.hikesal()\n",
    "emp1.getEmp()"
   ]
  },
  {
   "cell_type": "markdown",
   "id": "daccdfd1",
   "metadata": {},
   "source": [
    "# Operator Overloading"
   ]
  },
  {
   "cell_type": "code",
   "execution_count": null,
   "id": "c92da025",
   "metadata": {},
   "outputs": [],
   "source": [
    "# BInary operator overloading\n",
    "+       __add__(self,other)\n",
    "-       __sub__(self,ohter)\n",
    "*       __mul__(self,other)\n",
    "//      __floordiv__(self,other)\n",
    "/       __div__(self,other)\n",
    "%       __mod__(self,other)\n",
    "**      __pow__(self,other)"
   ]
  },
  {
   "cell_type": "markdown",
   "id": "fa907afe",
   "metadata": {},
   "source": [
    "Logical operator overloading"
   ]
  },
  {
   "cell_type": "code",
   "execution_count": null,
   "id": "32070e37",
   "metadata": {},
   "outputs": [],
   "source": [
    "&&      __and__(self,other)\n",
    "||      __or__(self,other)"
   ]
  },
  {
   "cell_type": "code",
   "execution_count": 6,
   "id": "b0c68bb0",
   "metadata": {},
   "outputs": [
    {
     "ename": "NameError",
     "evalue": "name 'multipli' is not defined",
     "output_type": "error",
     "traceback": [
      "\u001b[1;31m---------------------------------------------------------------------------\u001b[0m",
      "\u001b[1;31mNameError\u001b[0m                                 Traceback (most recent call last)",
      "\u001b[1;32mC:\\Users\\RAVULA~1.CHA\\AppData\\Local\\Temp/ipykernel_2760/3159787229.py\u001b[0m in \u001b[0;36m<module>\u001b[1;34m\u001b[0m\n\u001b[0;32m     13\u001b[0m \u001b[0mobj1\u001b[0m\u001b[1;33m=\u001b[0m\u001b[0mMultipli\u001b[0m\u001b[1;33m(\u001b[0m\u001b[1;33m)\u001b[0m\u001b[1;33m\u001b[0m\u001b[1;33m\u001b[0m\u001b[0m\n\u001b[0;32m     14\u001b[0m \u001b[0mobj2\u001b[0m\u001b[1;33m=\u001b[0m\u001b[0mMultipli\u001b[0m\u001b[1;33m(\u001b[0m\u001b[1;33m)\u001b[0m\u001b[1;33m\u001b[0m\u001b[1;33m\u001b[0m\u001b[0m\n\u001b[1;32m---> 15\u001b[1;33m \u001b[0mmul\u001b[0m \u001b[1;33m=\u001b[0m \u001b[0mmultipli\u001b[0m\u001b[1;33m(\u001b[0m\u001b[1;33m)\u001b[0m\u001b[1;33m\u001b[0m\u001b[1;33m\u001b[0m\u001b[0m\n\u001b[0m\u001b[0;32m     16\u001b[0m \u001b[0mobj1\u001b[0m\u001b[1;33m.\u001b[0m\u001b[0msetData\u001b[0m\u001b[1;33m(\u001b[0m\u001b[1;33m)\u001b[0m\u001b[1;33m\u001b[0m\u001b[1;33m\u001b[0m\u001b[0m\n\u001b[0;32m     17\u001b[0m \u001b[0mobj2\u001b[0m\u001b[1;33m.\u001b[0m\u001b[0msetData\u001b[0m\u001b[1;33m(\u001b[0m\u001b[1;33m)\u001b[0m\u001b[1;33m\u001b[0m\u001b[1;33m\u001b[0m\u001b[0m\n",
      "\u001b[1;31mNameError\u001b[0m: name 'multipli' is not defined"
     ]
    }
   ],
   "source": [
    "class Multipli():\n",
    "    def __init__(self):\n",
    "        self.mulval=0\n",
    "    def setData(self):\n",
    "        self.mulVal=int(input())\n",
    "    def __mul__(self,other):\n",
    "        temp = multipli()\n",
    "        temp.mulval = self.mulval * other.mulval\n",
    "        return temp\n",
    "    def getData(self):\n",
    "        print(self.mulVal)\n",
    "        \n",
    "obj1=Multipli()\n",
    "obj2=Multipli()        \n",
    "mul = multipli()\n",
    "obj1.setData()\n",
    "obj2.setData()\n",
    "mul = obj1 * obj2\n",
    "mul.getData()        "
   ]
  },
  {
   "cell_type": "code",
   "execution_count": 2,
   "id": "117607c6",
   "metadata": {},
   "outputs": [
    {
     "name": "stdout",
     "output_type": "stream",
     "text": [
      "sharath\n",
      "chand\n",
      "sharath is greater than chand\n"
     ]
    }
   ],
   "source": [
    "class myString():\n",
    "    def __init__(self):\n",
    "        self.string = None\n",
    "    def setStr(self):\n",
    "        self.string = input()\n",
    "    def __lt__(self,other):\n",
    "        if self.string < other.string:\n",
    "            return True\n",
    "    def __gt__(self,other):\n",
    "        if self.string > other.string:\n",
    "            return True      \n",
    "\n",
    "mystr1=myString()\n",
    "mystr2=myString()\n",
    "mystr1.setStr()\n",
    "mystr2.setStr()\n",
    "\n",
    "if mystr1 < mystr2:\n",
    "    print(f'{mystr1.string} is smaller than {mystr2.string}')\n",
    "elif mystr1 > mystr2:\n",
    "    print(f'{mystr1.string} is greater than {mystr2.string}')\n",
    "else:\n",
    "    print(f'{mystr1.string} and {mystr2.string} are equal')\n"
   ]
  },
  {
   "cell_type": "markdown",
   "id": "e93d185a",
   "metadata": {},
   "source": [
    "### File Handling"
   ]
  },
  {
   "cell_type": "markdown",
   "id": "f7f52c1d",
   "metadata": {},
   "source": [
    "If we want to store my data permanently and retrieve when required, then we can go for file handling."
   ]
  },
  {
   "cell_type": "markdown",
   "id": "4c963049",
   "metadata": {},
   "source": [
    "Methods to handle Files\n",
    "open() --> create a new file or open an existing file\n",
    "close()--> closing the file\n",
    "\n",
    "Write operation\n",
    "---------------\n",
    "write(stringobj) --> writes a sentence or a string\n",
    "writelines(listobj)->writes a 'list' strings or sentence\n",
    "\n",
    "Read operation\n",
    "---------------\n",
    "read() --> reads entire content from a file\n",
    "readline()>read a line till it encounters a new line\n",
    "readlines()>read line by line and stores each line of data to the 'list'\n"
   ]
  },
  {
   "cell_type": "markdown",
   "id": "282c9787",
   "metadata": {},
   "source": [
    "Syntax for Open Method\n",
    "fileObject = open(\"filename\\path\",\"mode\")\n",
    "\n",
    "Mode:\n",
    "\n",
    "For processing text files\n",
    "\n",
    "r - opens an existing file and allows only read operation\n",
    "w - creates a new file and allows only write operation\n",
    "a - creates a new file if it doesn't exist and opens if it exist and allow to append data\n",
    "\n",
    "+\n",
    "r+ - opens an existing file and allows read and write operation\n",
    "w+ - creates a new file and allows read and write operation\n",
    "a+ - creates a new file if it doesn't exist and opens if it exist and allows to append and read data\n",
    "\n",
    "For processing object/binary format files\n",
    "\n",
    "b--> rb,wb,ab / rb+,wb+,ab+\n",
    "accessing or storing data in binary mode\n"
   ]
  },
  {
   "cell_type": "markdown",
   "id": "b86a8c02",
   "metadata": {},
   "source": [
    "#### Context Manager\n",
    "with open as fobj:\n",
    "    \n",
    "#### Navigation\n",
    "seek(offset,whence)\n",
    "offset --> no of bytes\n",
    "whence: (from where/location)\n",
    "    0 -> begining of the file (offset can only be +ve)\n",
    "    1 -> current position     (offset can only be +ve/-ve)\n",
    "    2 -> end of the file      (offset can only be -ve)\n",
    "For example:\n",
    "    need to move cursor 10 bytes from the beginning of the file\n",
    "    seek(10,0)\n",
    "##### Exception Handling in File\n",
    "\n"
   ]
  }
 ],
 "metadata": {
  "kernelspec": {
   "display_name": "Python 3 (ipykernel)",
   "language": "python",
   "name": "python3"
  },
  "language_info": {
   "codemirror_mode": {
    "name": "ipython",
    "version": 3
   },
   "file_extension": ".py",
   "mimetype": "text/x-python",
   "name": "python",
   "nbconvert_exporter": "python",
   "pygments_lexer": "ipython3",
   "version": "3.9.7"
  }
 },
 "nbformat": 4,
 "nbformat_minor": 5
}
